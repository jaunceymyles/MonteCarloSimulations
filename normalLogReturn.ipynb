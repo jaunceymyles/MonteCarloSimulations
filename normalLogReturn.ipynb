{
 "cells": [
  {
   "cell_type": "code",
   "execution_count": 37,
   "id": "5ec766bd",
   "metadata": {},
   "outputs": [],
   "source": [
    "import yfinance as yf\n",
    "import pandas as pd\n",
    "import numpy as np\n",
    "import datetime as dat\n",
    "import scipy.stats as stats\n",
    "import matplotlib.pyplot as plt\n",
    "import seaborn as sns"
   ]
  },
  {
   "cell_type": "code",
   "execution_count": 38,
   "id": "f91e9386",
   "metadata": {},
   "outputs": [
    {
     "name": "stderr",
     "output_type": "stream",
     "text": [
      "C:\\Users\\mpjau\\AppData\\Local\\Temp\\ipykernel_18512\\54365369.py:4: FutureWarning: YF.download() has changed argument auto_adjust default to True\n",
      "  data = yf.download(tickersBigCap, start=start, end=end, group_by='ticker')\n",
      "[*********************100%***********************]  5 of 5 completed\n",
      "C:\\Users\\mpjau\\AppData\\Local\\Temp\\ipykernel_18512\\54365369.py:5: FutureWarning: The previous implementation of stack is deprecated and will be removed in a future version of pandas. See the What's New notes for pandas 2.1.0 for details. Specify future_stack=True to adopt the new implementation and silence this warning.\n",
      "  data = data.stack(level=0)\n"
     ]
    }
   ],
   "source": [
    "tickersBigCap = ['AAPL', 'MSFT', 'GOOGL', 'AMZN', 'META']\n",
    "end = dat.datetime.now()\n",
    "start = end - dat.timedelta(days=365*5)\n",
    "data = yf.download(tickersBigCap, start=start, end=end, group_by='ticker')\n",
    "data = data.stack(level=0)\n",
    "data.index = data.index.reorder_levels(['Ticker', 'Date'])\n",
    "data = data.sort_index()          "
   ]
  },
  {
   "cell_type": "code",
   "execution_count": 39,
   "id": "d91806c2",
   "metadata": {},
   "outputs": [],
   "source": [
    "df = pd.DataFrame({\n",
    "    'Close': data['Close']\n",
    "    })"
   ]
  },
  {
   "cell_type": "code",
   "execution_count": 54,
   "id": "0411ac01",
   "metadata": {},
   "outputs": [],
   "source": [
    "df['LogReturn'] = np.log(df['Close'] / df['Close'].shift(1)).dropna()"
   ]
  },
  {
   "cell_type": "code",
   "execution_count": 55,
   "id": "6b046853",
   "metadata": {},
   "outputs": [
    {
     "data": {
      "text/html": [
       "<div>\n",
       "<style scoped>\n",
       "    .dataframe tbody tr th:only-of-type {\n",
       "        vertical-align: middle;\n",
       "    }\n",
       "\n",
       "    .dataframe tbody tr th {\n",
       "        vertical-align: top;\n",
       "    }\n",
       "\n",
       "    .dataframe thead th {\n",
       "        text-align: right;\n",
       "    }\n",
       "</style>\n",
       "<table border=\"1\" class=\"dataframe\">\n",
       "  <thead>\n",
       "    <tr style=\"text-align: right;\">\n",
       "      <th></th>\n",
       "      <th></th>\n",
       "      <th>Close</th>\n",
       "      <th>LogReturn</th>\n",
       "    </tr>\n",
       "    <tr>\n",
       "      <th>Ticker</th>\n",
       "      <th>Date</th>\n",
       "      <th></th>\n",
       "      <th></th>\n",
       "    </tr>\n",
       "  </thead>\n",
       "  <tbody>\n",
       "    <tr>\n",
       "      <th rowspan=\"5\" valign=\"top\">AAPL</th>\n",
       "      <th>2020-06-17</th>\n",
       "      <td>85.442436</td>\n",
       "      <td>NaN</td>\n",
       "    </tr>\n",
       "    <tr>\n",
       "      <th>2020-06-18</th>\n",
       "      <td>85.476471</td>\n",
       "      <td>0.000398</td>\n",
       "    </tr>\n",
       "    <tr>\n",
       "      <th>2020-06-19</th>\n",
       "      <td>84.987991</td>\n",
       "      <td>-0.005731</td>\n",
       "    </tr>\n",
       "    <tr>\n",
       "      <th>2020-06-22</th>\n",
       "      <td>87.211601</td>\n",
       "      <td>0.025827</td>\n",
       "    </tr>\n",
       "    <tr>\n",
       "      <th>2020-06-23</th>\n",
       "      <td>89.073128</td>\n",
       "      <td>0.021120</td>\n",
       "    </tr>\n",
       "    <tr>\n",
       "      <th>...</th>\n",
       "      <th>...</th>\n",
       "      <td>...</td>\n",
       "      <td>...</td>\n",
       "    </tr>\n",
       "    <tr>\n",
       "      <th rowspan=\"5\" valign=\"top\">MSFT</th>\n",
       "      <th>2025-06-09</th>\n",
       "      <td>472.750000</td>\n",
       "      <td>0.005026</td>\n",
       "    </tr>\n",
       "    <tr>\n",
       "      <th>2025-06-10</th>\n",
       "      <td>470.920013</td>\n",
       "      <td>-0.003878</td>\n",
       "    </tr>\n",
       "    <tr>\n",
       "      <th>2025-06-11</th>\n",
       "      <td>472.619995</td>\n",
       "      <td>0.003603</td>\n",
       "    </tr>\n",
       "    <tr>\n",
       "      <th>2025-06-12</th>\n",
       "      <td>478.869995</td>\n",
       "      <td>0.013137</td>\n",
       "    </tr>\n",
       "    <tr>\n",
       "      <th>2025-06-13</th>\n",
       "      <td>474.959991</td>\n",
       "      <td>-0.008199</td>\n",
       "    </tr>\n",
       "  </tbody>\n",
       "</table>\n",
       "<p>6275 rows × 2 columns</p>\n",
       "</div>"
      ],
      "text/plain": [
       "                        Close  LogReturn\n",
       "Ticker Date                             \n",
       "AAPL   2020-06-17   85.442436        NaN\n",
       "       2020-06-18   85.476471   0.000398\n",
       "       2020-06-19   84.987991  -0.005731\n",
       "       2020-06-22   87.211601   0.025827\n",
       "       2020-06-23   89.073128   0.021120\n",
       "...                       ...        ...\n",
       "MSFT   2025-06-09  472.750000   0.005026\n",
       "       2025-06-10  470.920013  -0.003878\n",
       "       2025-06-11  472.619995   0.003603\n",
       "       2025-06-12  478.869995   0.013137\n",
       "       2025-06-13  474.959991  -0.008199\n",
       "\n",
       "[6275 rows x 2 columns]"
      ]
     },
     "execution_count": 55,
     "metadata": {},
     "output_type": "execute_result"
    }
   ],
   "source": [
    "df"
   ]
  },
  {
   "cell_type": "code",
   "execution_count": 71,
   "id": "a9e57555",
   "metadata": {},
   "outputs": [
    {
     "name": "stdout",
     "output_type": "stream",
     "text": [
      "[-1.3000282544051691, -0.08029542508656962, -0.06394860489846334, -0.06380179009095528, -0.06243686428014475, -0.05654730422193248, -0.05561395588688599, -0.05219151126106567, -0.05083702387538248, -0.04659863699194502]\n"
     ]
    }
   ],
   "source": [
    "top10 = logreturn.sort_values(ascending=True).head(10).tolist()\n",
    "print(top10)"
   ]
  },
  {
   "cell_type": "code",
   "execution_count": 79,
   "id": "c4be2a6a",
   "metadata": {},
   "outputs": [],
   "source": [
    "index_to_drop = df[df['LogReturn'] == -1.3000282544051691].index\n",
    "df = df.drop(index_to_drop)"
   ]
  },
  {
   "cell_type": "code",
   "execution_count": 80,
   "id": "7b509760",
   "metadata": {},
   "outputs": [
    {
     "data": {
      "text/html": [
       "<div>\n",
       "<style scoped>\n",
       "    .dataframe tbody tr th:only-of-type {\n",
       "        vertical-align: middle;\n",
       "    }\n",
       "\n",
       "    .dataframe tbody tr th {\n",
       "        vertical-align: top;\n",
       "    }\n",
       "\n",
       "    .dataframe thead th {\n",
       "        text-align: right;\n",
       "    }\n",
       "</style>\n",
       "<table border=\"1\" class=\"dataframe\">\n",
       "  <thead>\n",
       "    <tr style=\"text-align: right;\">\n",
       "      <th></th>\n",
       "      <th>Close</th>\n",
       "      <th>LogReturn</th>\n",
       "    </tr>\n",
       "    <tr>\n",
       "      <th>Date</th>\n",
       "      <th></th>\n",
       "      <th></th>\n",
       "    </tr>\n",
       "  </thead>\n",
       "  <tbody>\n",
       "    <tr>\n",
       "      <th>2020-06-18</th>\n",
       "      <td>188.091385</td>\n",
       "      <td>0.010652</td>\n",
       "    </tr>\n",
       "    <tr>\n",
       "      <th>2020-06-19</th>\n",
       "      <td>186.970367</td>\n",
       "      <td>-0.005978</td>\n",
       "    </tr>\n",
       "    <tr>\n",
       "      <th>2020-06-22</th>\n",
       "      <td>192.163208</td>\n",
       "      <td>0.027395</td>\n",
       "    </tr>\n",
       "    <tr>\n",
       "      <th>2020-06-23</th>\n",
       "      <td>193.447128</td>\n",
       "      <td>0.006659</td>\n",
       "    </tr>\n",
       "    <tr>\n",
       "      <th>2020-06-24</th>\n",
       "      <td>189.547653</td>\n",
       "      <td>-0.020364</td>\n",
       "    </tr>\n",
       "    <tr>\n",
       "      <th>...</th>\n",
       "      <td>...</td>\n",
       "      <td>...</td>\n",
       "    </tr>\n",
       "    <tr>\n",
       "      <th>2025-06-09</th>\n",
       "      <td>472.750000</td>\n",
       "      <td>0.005026</td>\n",
       "    </tr>\n",
       "    <tr>\n",
       "      <th>2025-06-10</th>\n",
       "      <td>470.920013</td>\n",
       "      <td>-0.003878</td>\n",
       "    </tr>\n",
       "    <tr>\n",
       "      <th>2025-06-11</th>\n",
       "      <td>472.619995</td>\n",
       "      <td>0.003603</td>\n",
       "    </tr>\n",
       "    <tr>\n",
       "      <th>2025-06-12</th>\n",
       "      <td>478.869995</td>\n",
       "      <td>0.013137</td>\n",
       "    </tr>\n",
       "    <tr>\n",
       "      <th>2025-06-13</th>\n",
       "      <td>474.959991</td>\n",
       "      <td>-0.008199</td>\n",
       "    </tr>\n",
       "  </tbody>\n",
       "</table>\n",
       "<p>1254 rows × 2 columns</p>\n",
       "</div>"
      ],
      "text/plain": [
       "                 Close  LogReturn\n",
       "Date                             \n",
       "2020-06-18  188.091385   0.010652\n",
       "2020-06-19  186.970367  -0.005978\n",
       "2020-06-22  192.163208   0.027395\n",
       "2020-06-23  193.447128   0.006659\n",
       "2020-06-24  189.547653  -0.020364\n",
       "...                ...        ...\n",
       "2025-06-09  472.750000   0.005026\n",
       "2025-06-10  470.920013  -0.003878\n",
       "2025-06-11  472.619995   0.003603\n",
       "2025-06-12  478.869995   0.013137\n",
       "2025-06-13  474.959991  -0.008199\n",
       "\n",
       "[1254 rows x 2 columns]"
      ]
     },
     "execution_count": 80,
     "metadata": {},
     "output_type": "execute_result"
    }
   ],
   "source": [
    "df.loc['MSFT']"
   ]
  },
  {
   "cell_type": "code",
   "execution_count": 82,
   "id": "b6759388",
   "metadata": {},
   "outputs": [
    {
     "name": "stdout",
     "output_type": "stream",
     "text": [
      "Date\n",
      "2020-06-18    0.010652\n",
      "2020-06-19   -0.005978\n",
      "2020-06-22    0.027395\n",
      "2020-06-23    0.006659\n",
      "2020-06-24   -0.020364\n",
      "                ...   \n",
      "2025-06-09    0.005026\n",
      "2025-06-10   -0.003878\n",
      "2025-06-11    0.003603\n",
      "2025-06-12    0.013137\n",
      "2025-06-13   -0.008199\n",
      "Name: LogReturn, Length: 1254, dtype: float64\n"
     ]
    }
   ],
   "source": [
    "tickToAnalyse = 'MSFT'\n",
    "logreturn = df.loc[tickToAnalyse]['LogReturn'].dropna()\n",
    "print(logreturn)"
   ]
  },
  {
   "cell_type": "code",
   "execution_count": 83,
   "id": "378160a3",
   "metadata": {},
   "outputs": [
    {
     "data": {
      "image/png": "[encoded data removed]",
      "text/plain": [
       "<Figure size 640x480 with 1 Axes>"
      ]
     },
     "metadata": {},
     "output_type": "display_data"
    }
   ],
   "source": [
    "stats.probplot(logreturn, dist=\"norm\", plot=plt)\n",
    "plt.title('Q-Q Plot')\n",
    "plt.show()"
   ]
  },
  {
   "cell_type": "code",
   "execution_count": 84,
   "id": "eb4d7c30",
   "metadata": {},
   "outputs": [
    {
     "name": "stdout",
     "output_type": "stream",
     "text": [
      "Shapiro-Wilk Test: p-value = 1.7083235467797287e-14\n",
      "Kolmogorov-Smirnov Test: p-value = 0.0006591918635579999\n",
      "Anderson-Darling Test Statistic: 6.499986390500453\n",
      "At 15.0% significance level, critical value = 0.574\n",
      "At 10.0% significance level, critical value = 0.654\n",
      "At 5.0% significance level, critical value = 0.785\n",
      "At 2.5% significance level, critical value = 0.915\n",
      "At 1.0% significance level, critical value = 1.089\n"
     ]
    }
   ],
   "source": [
    "stat, p = stats.shapiro(logreturn)\n",
    "print(f'Shapiro-Wilk Test: p-value = {p}')\n",
    "\n",
    "normalized = (logreturn - logreturn.mean()) / logreturn.std()\n",
    "stat, p = stats.kstest(normalized, 'norm')\n",
    "print(f'Kolmogorov-Smirnov Test: p-value = {p}')\n",
    "\n",
    "result = stats.anderson(logreturn, dist='norm')\n",
    "print(f'Anderson-Darling Test Statistic: {result.statistic}')\n",
    "for crit, sig in zip(result.critical_values, result.significance_level):\n",
    "    print(f'At {sig}% significance level, critical value = {crit}')"
   ]
  },
  {
   "cell_type": "code",
   "execution_count": 85,
   "id": "8fcc2e29",
   "metadata": {},
   "outputs": [
    {
     "data": {
      "image/png": "[encoded data removed]",
      "text/plain": [
       "<Figure size 640x480 with 1 Axes>"
      ]
     },
     "metadata": {},
     "output_type": "display_data"
    }
   ],
   "source": [
    "mean_val = np.mean(logreturn)\n",
    "median_val = np.median(logreturn)\n",
    "counts, bins = np.histogram(logreturn, bins=500)\n",
    "bin_centers = 0.5 * (bins[1:] + bins[:-1])\n",
    "hist_mode = bin_centers[np.argmax(counts)]\n",
    "\n",
    "\n",
    "\n",
    "\n",
    "sns.histplot(logreturn, bins=500, kde=True)\n",
    "plt.axvline(mean_val, color='red', linestyle='--', linewidth=2, label=f'Mean: {mean_val:.2f}')\n",
    "plt.axvline(median_val, color='green', linestyle='--', linewidth=2, label=f'Median: {median_val:.2f}')\n",
    "plt.axvline(hist_mode, color='purple', linestyle='--', linewidth=2, label=f'Mode: {hist_mode:.2f}')\n",
    "plt.title('Histogram of Returns')\n",
    "plt.legend()\n",
    "plt.show()"
   ]
  },
  {
   "cell_type": "code",
   "execution_count": null,
   "id": "3b15519c",
   "metadata": {},
   "outputs": [],
   "source": []
  }
 ],
 "metadata": {
  "kernelspec": {
   "display_name": "Python 3",
   "language": "python",
   "name": "python3"
  },
  "language_info": {
   "codemirror_mode": {
    "name": "ipython",
    "version": 3
   },
   "file_extension": ".py",
   "mimetype": "text/x-python",
   "name": "python",
   "nbconvert_exporter": "python",
   "pygments_lexer": "ipython3",
   "version": "3.13.5"
  }
 },
 "nbformat": 4,
 "nbformat_minor": 5
}
